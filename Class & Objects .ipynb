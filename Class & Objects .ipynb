{
 "cells": [
  {
   "cell_type": "code",
   "execution_count": 1,
   "id": "3c0a957a-0f0c-45d6-94e9-1704487d8576",
   "metadata": {},
   "outputs": [
    {
     "name": "stdout",
     "output_type": "stream",
     "text": [
      "sumit\n"
     ]
    }
   ],
   "source": [
    "class student:\n",
    "    name=\"sumit\"\n",
    "f1=student()\n",
    "print(f1.name)"
   ]
  },
  {
   "cell_type": "code",
   "execution_count": 2,
   "id": "54ae1fc3-309b-40e3-ba2d-3a2602b0048f",
   "metadata": {},
   "outputs": [
    {
     "name": "stdout",
     "output_type": "stream",
     "text": [
      "['sumit', 'aman']\n"
     ]
    }
   ],
   "source": [
    "class student:\n",
    "    name=[\"sumit\",\"aman\"]\n",
    "f1=student()\n",
    "print(f1.name)"
   ]
  },
  {
   "cell_type": "code",
   "execution_count": 3,
   "id": "77a6cd24-13af-4bce-9513-27ac5377af8d",
   "metadata": {},
   "outputs": [
    {
     "name": "stdout",
     "output_type": "stream",
     "text": [
      "['sumit', 'aman']\n",
      "[1, 2]\n"
     ]
    }
   ],
   "source": [
    "class student:\n",
    "    name=[\"sumit\",\"aman\"]\n",
    "    roll=[1,2]\n",
    "f1=student()\n",
    "print(f1.name)\n",
    "print(f1.roll)"
   ]
  },
  {
   "cell_type": "code",
   "execution_count": 4,
   "id": "34933da8-9eca-482e-8bb8-a4aa8e57ecf6",
   "metadata": {},
   "outputs": [
    {
     "name": "stdout",
     "output_type": "stream",
     "text": [
      "['toyota', 'Hundai', 'Mercedes', 'bmw', 'audi', 'lamborgirni']\n"
     ]
    }
   ],
   "source": [
    "class cars:\n",
    "    object=[\"toyota\",\"Hundai\",\"Mercedes\",\"bmw\",\"audi\",\"lamborgirni\"]\n",
    "f2=cars()\n",
    "print(f2.object)"
   ]
  },
  {
   "cell_type": "code",
   "execution_count": 5,
   "id": "97caf8e8-e4a6-46fc-9daf-7d198d21ffe7",
   "metadata": {},
   "outputs": [
    {
     "name": "stdout",
     "output_type": "stream",
     "text": [
      "['kay_beauty', 'rare_beauty', 'kyle_cosmetic']\n"
     ]
    }
   ],
   "source": [
    "class makeup:\n",
    "    object=[\"kay_beauty\",\"rare_beauty\",\"kyle_cosmetic\"]\n",
    "a1=makeup()\n",
    "print(a1.object)"
   ]
  },
  {
   "cell_type": "code",
   "execution_count": 6,
   "id": "183873bf-de7f-4191-8a53-116929c0e7b5",
   "metadata": {},
   "outputs": [
    {
     "name": "stdout",
     "output_type": "stream",
     "text": [
      "Sumit 18\n",
      "Gaurav 17\n"
     ]
    }
   ],
   "source": [
    "class Student():\n",
    "    def __init__(self,name,age):\n",
    "        self.name=name\n",
    "        self.age=age\n",
    "\n",
    "s1=Student(\"Sumit\",18)\n",
    "print(s1.name,s1.age)\n",
    "s2=Student(\"Gaurav\",17)\n",
    "print(s2.name,s2.age)"
   ]
  },
  {
   "cell_type": "code",
   "execution_count": 7,
   "id": "15969e09-d386-4c9f-8334-11c1303b78cc",
   "metadata": {},
   "outputs": [
    {
     "name": "stdout",
     "output_type": "stream",
     "text": [
      "Data Science 2024\n",
      "IITM\n"
     ]
    }
   ],
   "source": [
    "class College:\n",
    "    College=\"IITM\"\n",
    "    def __init__(self,batch,year):\n",
    "        self.batch=batch\n",
    "        self.year=year\n",
    "s1=College(\"Data Science\",2024)\n",
    "print(s1.batch,s1.year)\n",
    "print(s1.College)"
   ]
  },
  {
   "cell_type": "code",
   "execution_count": 8,
   "id": "5df0c54c-4ebc-4878-8154-a758ddcea2c6",
   "metadata": {},
   "outputs": [
    {
     "name": "stdout",
     "output_type": "stream",
     "text": [
      "Sahil 52 Under 55\n",
      "\n",
      "Anurag 60 under 70\n",
      "\n",
      "Sohaib 75 under 80\n",
      "\n",
      "Shivam 57 under 60\n",
      "\n",
      "Data Science 2024\n"
     ]
    }
   ],
   "source": [
    "class Armwrestle:\n",
    "        def __init__(self,name,weight,category):\n",
    "            self.name=name\n",
    "            self.weight=weight\n",
    "            self.category=category\n",
    "s1=Armwrestle(\"Sahil\",52,\"Under 55\\n\")\n",
    "print(s1.name,s1.weight,s1.category)\n",
    "s2=Armwrestle(\"Anurag\",60,\"under 70\\n\")\n",
    "print(s2.name,s2.weight,s2.category)\n",
    "s3=Armwrestle(\"Sohaib\",75,\"under 80\\n\")\n",
    "print(s3.name,s3.weight,s3.category)\n",
    "s4=Armwrestle(\"Shivam\",57,\"under 60\")\n",
    "print(s4.name,s4.weight,s4.category)\n",
    "class College:\n",
    "        def __init__(self,batch,year):\n",
    "            self.batch=batch\n",
    "            self.year=year\n",
    "a1=College(\"\\nData Science\",2024)\n",
    "print(a1.batch,a1.year)"
   ]
  },
  {
   "cell_type": "code",
   "execution_count": 9,
   "id": "1c43712e-1df0-4cb1-a282-0d8f20070291",
   "metadata": {},
   "outputs": [
    {
     "name": "stdout",
     "output_type": "stream",
     "text": [
      "Sahil 52 Under 55\n",
      "\n",
      "Anurag 60 under 70\n",
      "\n",
      "Sohaib 75 under 80\n",
      "\n",
      "Shivam 57 under 60\n",
      "AAFT\n"
     ]
    }
   ],
   "source": [
    "class College:\n",
    "    college_name=\"AAFT\"\n",
    "    def __init__(self,name,weight,category):\n",
    "        self.name=name\n",
    "        self.weight=weight\n",
    "        self.category=category\n",
    "s1=College(\"Sahil\",52,\"Under 55\\n\")\n",
    "print(s1.name,s1.weight,s1.category)\n",
    "s2=College(\"Anurag\",60,\"under 70\\n\")\n",
    "print(s2.name,s2.weight,s2.category)\n",
    "s3=College(\"Sohaib\",75,\"under 80\\n\")\n",
    "print(s3.name,s3.weight,s3.category)\n",
    "s4=College(\"Shivam\",57,\"under 60\")\n",
    "print(s4.name,s4.weight,s4.category)\n",
    "print(s1.college_name)"
   ]
  },
  {
   "cell_type": "code",
   "execution_count": 10,
   "id": "025b6854-87ad-4957-a31b-f9bd4c8c02a7",
   "metadata": {},
   "outputs": [
    {
     "name": "stdout",
     "output_type": "stream",
     "text": [
      "Sahil 52 Under 55\n",
      "Anurag 60 under 70\n",
      "Sohaib 75 under 80\n",
      "Shivam 57 under 60\n"
     ]
    }
   ],
   "source": [
    "class Armwrestle:\n",
    "    def __init__(self,name,weight,category):\n",
    "        self.name=name\n",
    "        self.weight=weight\n",
    "        self.category=category\n",
    "s1=Armwrestle(\"Sahil\",52,\"Under 55\")\n",
    "print(s1.name,s1.weight,s1.category)\n",
    "s2=Armwrestle(\"Anurag\",60,\"under 70\")\n",
    "print(s2.name,s2.weight,s2.category)\n",
    "s3=Armwrestle(\"Sohaib\",75,\"under 80\")\n",
    "print(s3.name,s3.weight,s3.category)\n",
    "s4=Armwrestle(\"Shivam\",57,\"under 60\")\n",
    "print(s4.name,s4.weight,s4.category)"
   ]
  },
  {
   "cell_type": "code",
   "execution_count": 11,
   "id": "cd113699-6148-45c5-9276-cedc8c440cbb",
   "metadata": {},
   "outputs": [
    {
     "name": "stdout",
     "output_type": "stream",
     "text": [
      "Sumit 18\n",
      "Gaurav 17\n"
     ]
    }
   ],
   "source": [
    "class Student():\n",
    "    def __init__(self,name,age):\n",
    "        self.name=name\n",
    "        self.age=age\n",
    "\n",
    "s1=Student(\"Sumit\",18)\n",
    "print(s1.name,s1.age)\n",
    "s2=Student(\"Gaurav\",17)\n",
    "print(s2.name,s2.age)"
   ]
  },
  {
   "cell_type": "code",
   "execution_count": 12,
   "id": "4f6b20ad-7777-4a63-8432-970565f97a13",
   "metadata": {},
   "outputs": [
    {
     "name": "stdout",
     "output_type": "stream",
     "text": [
      "\n",
      "*\n",
      "**\n",
      "***\n",
      "****\n",
      "*****\n"
     ]
    }
   ],
   "source": [
    "for i in range(6):\n",
    "    print(\"*\"*i)"
   ]
  },
  {
   "cell_type": "code",
   "execution_count": 13,
   "id": "658bf096-56cd-4b54-977b-33225c73fab8",
   "metadata": {},
   "outputs": [
    {
     "name": "stdout",
     "output_type": "stream",
     "text": [
      "*****\n",
      "****\n",
      "***\n",
      "**\n",
      "*\n"
     ]
    }
   ],
   "source": [
    "for i in range(5,0,-1):\n",
    "    print(\"*\"*i)"
   ]
  },
  {
   "cell_type": "code",
   "execution_count": 14,
   "id": "1803c841-e76c-4db0-88fc-695e606d3f4b",
   "metadata": {},
   "outputs": [
    {
     "name": "stdout",
     "output_type": "stream",
     "text": [
      "*\n",
      "**\n",
      "***\n",
      "****\n",
      "*****\n"
     ]
    }
   ],
   "source": [
    "x=1\n",
    "while x<6:\n",
    "    print(\"*\"*x)\n",
    "    x+=1"
   ]
  },
  {
   "cell_type": "code",
   "execution_count": 15,
   "id": "18f4df1e-5219-47e8-b1f0-d9e3929c38f6",
   "metadata": {},
   "outputs": [
    {
     "name": "stdout",
     "output_type": "stream",
     "text": [
      "Sumit 18\n",
      "Gaurav 17\n"
     ]
    }
   ],
   "source": [
    "class Student():\n",
    "    def __init__(self,name,age):\n",
    "        self.name=name\n",
    "        self.age=age\n",
    "\n",
    "s1=Student(\"Sumit\",18)\n",
    "print(s1.name,s1.age)\n",
    "s2=Student(\"Gaurav\",17)\n",
    "print(s2.name,s2.age)"
   ]
  },
  {
   "cell_type": "code",
   "execution_count": null,
   "id": "007f6f47-e117-4eae-b9d5-3280bb134995",
   "metadata": {},
   "outputs": [],
   "source": []
  }
 ],
 "metadata": {
  "kernelspec": {
   "display_name": "Python 3 (ipykernel)",
   "language": "python",
   "name": "python3"
  },
  "language_info": {
   "codemirror_mode": {
    "name": "ipython",
    "version": 3
   },
   "file_extension": ".py",
   "mimetype": "text/x-python",
   "name": "python",
   "nbconvert_exporter": "python",
   "pygments_lexer": "ipython3",
   "version": "3.12.4"
  }
 },
 "nbformat": 4,
 "nbformat_minor": 5
}
