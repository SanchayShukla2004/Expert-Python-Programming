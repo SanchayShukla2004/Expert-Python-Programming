{
 "cells": [
  {
   "cell_type": "markdown",
   "id": "dd8e884c-4853-4a59-999e-9b3c9e616fe5",
   "metadata": {},
   "source": [
    "Create an abstract class Vehicle with an abstract method start(). Then, create a subclass Car that implements the start() method."
   ]
  },
  {
   "cell_type": "code",
   "execution_count": 90,
   "id": "e242ff42-d990-4e1f-a3d5-70423667b7be",
   "metadata": {},
   "outputs": [
    {
     "name": "stdout",
     "output_type": "stream",
     "text": [
      "Roller Start a bit late\n",
      "Wheel Start early\n"
     ]
    }
   ],
   "source": [
    "from abc import ABC,abstractmethod \n",
    "class Vehicle(ABC):\n",
    "    @abstractmethod\n",
    "    def start(self):\n",
    "        pass\n",
    "class car(Vehicle):\n",
    "    def start(self):\n",
    "        print(\"Roller Start a bit late\")\n",
    "class newcar(Vehicle):\n",
    "    def start(self):\n",
    "        print(\"Wheel Start early\")\n",
    "x=car()\n",
    "x.start()\n",
    "y=newcar()\n",
    "y.start()"
   ]
  },
  {
   "cell_type": "markdown",
   "id": "ebecdf0b-cb34-496e-ab57-3abb9715739a",
   "metadata": {},
   "source": [
    "Write a Python program that defines an abstract class Shape with an abstract method area(). Then, create a Rectangle class that inherits from Shape and implements the area() method."
   ]
  },
  {
   "cell_type": "code",
   "execution_count": 88,
   "id": "cb65af4f-fa66-401d-9cbb-61f0ad23296f",
   "metadata": {},
   "outputs": [
    {
     "name": "stdout",
     "output_type": "stream",
     "text": [
      "50\n"
     ]
    }
   ],
   "source": [
    "from abc import ABC,abstractmethod\n",
    "class Shape(ABC):\n",
    "    @abstractmethod\n",
    "    def area(self):\n",
    "        pass\n",
    "class rectangle(Shape):\n",
    "    def __init__(self,length,breath):\n",
    "        self.length=length\n",
    "        self.breath=breath\n",
    "    def area(self):\n",
    "        return self.length*self.breath\n",
    "x=rectangle(5,10)\n",
    "print(x.area())"
   ]
  },
  {
   "cell_type": "markdown",
   "id": "0ec3c38a-88a5-4f84-bfa5-77ace61c0b68",
   "metadata": {},
   "source": [
    "Define an abstract class Animal with an abstract method make_sound(). Then, create two subclasses Dog and Cat, each implementing make_sound() differently."
   ]
  },
  {
   "cell_type": "code",
   "execution_count": 98,
   "id": "c5aca530-8ed1-4000-9a68-51b2fa10e973",
   "metadata": {},
   "outputs": [
    {
     "name": "stdout",
     "output_type": "stream",
     "text": [
      "Cat say meow meow\n",
      "Dog's bark \n"
     ]
    }
   ],
   "source": [
    "from abc import ABC,abstractmethod\n",
    "class Animal(ABC):\n",
    "    @abstractmethod\n",
    "    def make_sound(self):\n",
    "        pass\n",
    "class cat(Animal):\n",
    "    def make_sound(self):\n",
    "        print(\"Cat say meow meow\")\n",
    "class dog(Animal):\n",
    "    def make_sound(self):\n",
    "        print(\"Dog's bark \")\n",
    "x=cat()\n",
    "x.make_sound()\n",
    "x=dog()\n",
    "x.make_sound()"
   ]
  },
  {
   "cell_type": "markdown",
   "id": "f092d42b-ba5f-43f9-badf-cd1bce2c239d",
   "metadata": {},
   "source": [
    "Modify the Shape class from question 2 to include another abstract method perimeter(), and implement it in the Rectangle class."
   ]
  },
  {
   "cell_type": "code",
   "execution_count": 112,
   "id": "78832e1a-ef27-41fc-987e-f094c1e17c7d",
   "metadata": {},
   "outputs": [
    {
     "name": "stdout",
     "output_type": "stream",
     "text": [
      "Area of rectangle is 50\n",
      "Perimeter of rectangle is30\n"
     ]
    }
   ],
   "source": [
    "from abc import ABC,abstractmethod\n",
    "class Shape(ABC):\n",
    "    @abstractmethod\n",
    "    def area(self):\n",
    "        pass\n",
    "    def perimeter(self):\n",
    "        pass\n",
    "class rectangle(Shape):\n",
    "    def __init__(self,length,breath):\n",
    "        self.length=length\n",
    "        self.breath=breath\n",
    "    def area(self):\n",
    "        return f\"Area of rectangle is {self.length*self.breath}\"\n",
    "    def perimeter(self):\n",
    "        return f\"Perimeter of rectangle is{2*(self.length+self.breath)}\"\n",
    "x=rectangle(5,10)\n",
    "print(x.area())\n",
    "print(x.perimeter())"
   ]
  },
  {
   "cell_type": "markdown",
   "id": "2d69b5b7-59df-4a4d-9590-9463e918c161",
   "metadata": {},
   "source": [
    "Write a program where an abstract class BankAccount has an abstract method get_balance(). Then, create a subclass SavingsAccount that initializes with a balance and implements get_balance()."
   ]
  },
  {
   "cell_type": "code",
   "execution_count": 114,
   "id": "ad54e1c8-d0ce-4b0a-bedf-ac8db39189ee",
   "metadata": {},
   "outputs": [
    {
     "name": "stdout",
     "output_type": "stream",
     "text": [
      "5Lakh\n"
     ]
    }
   ],
   "source": [
    "from abc import ABC,abstractmethod\n",
    "class Bank_Account(ABC):\n",
    "    def get_balance(self):\n",
    "        pass\n",
    "class SAVINGS_ACCOUNT(Bank_Account):\n",
    "    def get_balance(self):\n",
    "        print(\"5Lakh\")\n",
    "x=SAVINGS_ACCOUNT()\n",
    "x.get_balance()"
   ]
  },
  {
   "cell_type": "code",
   "execution_count": null,
   "id": "3de0ef42-69f8-4d1a-a640-f3c228bcc42e",
   "metadata": {},
   "outputs": [],
   "source": []
  }
 ],
 "metadata": {
  "kernelspec": {
   "display_name": "Python 3 (ipykernel)",
   "language": "python",
   "name": "python3"
  },
  "language_info": {
   "codemirror_mode": {
    "name": "ipython",
    "version": 3
   },
   "file_extension": ".py",
   "mimetype": "text/x-python",
   "name": "python",
   "nbconvert_exporter": "python",
   "pygments_lexer": "ipython3",
   "version": "3.12.4"
  }
 },
 "nbformat": 4,
 "nbformat_minor": 5
}
