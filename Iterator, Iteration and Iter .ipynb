{
 "cells": [
  {
   "cell_type": "markdown",
   "id": "5f0dbcba-ca25-49a5-813d-a2f53fe18ea5",
   "metadata": {},
   "source": [
    "Write a program to iterate over a list using an iterator and a while loop. [10, 20, 30, 40]"
   ]
  },
  {
   "cell_type": "code",
   "execution_count": 21,
   "id": "0e61f947-efdf-42b6-89fd-98e72c81598a",
   "metadata": {},
   "outputs": [
    {
     "name": "stdout",
     "output_type": "stream",
     "text": [
      "10\n",
      "20\n",
      "30\n",
      "40\n"
     ]
    }
   ],
   "source": [
    "x=[10,20,30,40]\n",
    "iterator=iter(x)\n",
    "\n",
    "while True:\n",
    "    try:\n",
    "        print(next(iterator))\n",
    "    except StopIteration:\n",
    "        break"
   ]
  },
  {
   "cell_type": "markdown",
   "id": "5ab6d8b9-653b-43da-b052-2b0dbdc16e3b",
   "metadata": {},
   "source": [
    "What happens if we call next() on an iterator that has no more items left?"
   ]
  },
  {
   "cell_type": "markdown",
   "id": "3ba5f752-2359-42e3-8832-9e065cf49bb2",
   "metadata": {},
   "source": [
    "How do you use a ‘for loop’ to iterate over an iterator. [\"a\", \"b\", \"c\"]"
   ]
  },
  {
   "cell_type": "code",
   "execution_count": 29,
   "id": "bcd8c534-0fd4-4060-8050-0cca87ff6057",
   "metadata": {},
   "outputs": [
    {
     "name": "stdout",
     "output_type": "stream",
     "text": [
      "a\n",
      "b\n",
      "c\n"
     ]
    }
   ],
   "source": [
    "letters = iter([\"a\", \"b\", \"c\"])\n",
    "\n",
    "for letter in letters:\n",
    "    print(letter)"
   ]
  },
  {
   "cell_type": "markdown",
   "id": "38365e78-5ad4-4751-b78a-71a6401c6238",
   "metadata": {},
   "source": [
    "How do you use iter() and next() to iterate through a range of numbers?"
   ]
  },
  {
   "cell_type": "code",
   "execution_count": 81,
   "id": "b8bea557-5fb7-4f28-bbcb-85b22f01f6c3",
   "metadata": {},
   "outputs": [
    {
     "name": "stdout",
     "output_type": "stream",
     "text": [
      "0\n",
      "1\n",
      "2\n",
      "3\n",
      "4\n"
     ]
    }
   ],
   "source": [
    "for i in range(5):\n",
    "    x=iter(str(i))\n",
    "    print(next(x))"
   ]
  },
  {
   "cell_type": "markdown",
   "id": "4d734f54-68ee-4c86-afb8-342c4682517b",
   "metadata": {},
   "source": [
    "Write a program to convert an iterator into a list. "
   ]
  },
  {
   "cell_type": "code",
   "execution_count": 49,
   "id": "fbed33e0-1e94-4437-b38c-762c07d9aa21",
   "metadata": {},
   "outputs": [
    {
     "name": "stdout",
     "output_type": "stream",
     "text": [
      "anilm\n"
     ]
    }
   ],
   "source": [
    "n=[\"anilm\"]\n",
    "iterator=iter(n)\n",
    "print(next(iterator))"
   ]
  },
  {
   "cell_type": "code",
   "execution_count": 83,
   "id": "93d6a664-fb67-4111-9b4c-0088640d78e5",
   "metadata": {},
   "outputs": [
    {
     "name": "stdout",
     "output_type": "stream",
     "text": [
      "['anilm']\n"
     ]
    }
   ],
   "source": [
    "n=[\"anilm\"]\n",
    "iterator=iter(n)\n",
    "il=list(iterator)\n",
    "print(il)"
   ]
  },
  {
   "cell_type": "code",
   "execution_count": null,
   "id": "d2435319-634c-433b-9c7d-8bde92db10f7",
   "metadata": {},
   "outputs": [],
   "source": []
  }
 ],
 "metadata": {
  "kernelspec": {
   "display_name": "Python 3 (ipykernel)",
   "language": "python",
   "name": "python3"
  },
  "language_info": {
   "codemirror_mode": {
    "name": "ipython",
    "version": 3
   },
   "file_extension": ".py",
   "mimetype": "text/x-python",
   "name": "python",
   "nbconvert_exporter": "python",
   "pygments_lexer": "ipython3",
   "version": "3.12.4"
  }
 },
 "nbformat": 4,
 "nbformat_minor": 5
}
